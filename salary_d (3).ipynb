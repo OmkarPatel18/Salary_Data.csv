{
  "nbformat": 4,
  "nbformat_minor": 0,
  "metadata": {
    "colab": {
      "name": "salary_d.ipynb",
      "provenance": []
    },
    "kernelspec": {
      "name": "python3",
      "display_name": "Python 3"
    },
    "language_info": {
      "name": "python"
    }
  },
  "cells": [
    {
      "cell_type": "code",
      "execution_count": 3,
      "metadata": {
        "id": "HfU1Ne8OYgFF"
      },
      "outputs": [],
      "source": [
        "import numpy as np\n",
        "import pandas as pd\n",
        "from sklearn import linear_model,metrics\n",
        "from sklearn.model_selection import train_test_split"
      ]
    },
    {
      "cell_type": "code",
      "source": [
        "model=pd.read_csv('Salary_Data.csv')\n",
        "print(model.head())\n",
        "X=model[['YearsExperience']]\n",
        "Y=model[['Salary']]"
      ],
      "metadata": {
        "colab": {
          "base_uri": "https://localhost:8080/"
        },
        "id": "GzZ7deynaAJQ",
        "outputId": "8a70b5ef-9c03-4b2d-cf2d-ace3617b68ff"
      },
      "execution_count": 2,
      "outputs": [
        {
          "output_type": "stream",
          "name": "stdout",
          "text": [
            "   YearsExperience   Salary\n",
            "0              1.1  39343.0\n",
            "1              1.3  46205.0\n",
            "2              1.5  37731.0\n",
            "3              2.0  43525.0\n",
            "4              2.2  39891.0\n"
          ]
        }
      ]
    },
    {
      "cell_type": "code",
      "source": [
        "x_train,x_test,y_train,y_test = train_test_split(X,Y,random_state=0)\n",
        "x_train= x_train['YearsExperience'].to_numpy()\n",
        "x_test = x_test['YearsExperience'].to_numpy()\n",
        "y_train= y_train['Salary'].to_numpy()\n",
        "y_test = y_test['Salary'].to_numpy()"
      ],
      "metadata": {
        "id": "RAPuJf5Gc5kY"
      },
      "execution_count": 4,
      "outputs": []
    },
    {
      "cell_type": "code",
      "source": [
        "print(\"x_train:\",x_train)\n",
        "print(\"y_train:\",y_train)"
      ],
      "metadata": {
        "colab": {
          "base_uri": "https://localhost:8080/"
        },
        "id": "bqAO90oLeKiv",
        "outputId": "710037e2-0b58-4d3f-990c-57e09c3b6c15"
      },
      "execution_count": 5,
      "outputs": [
        {
          "output_type": "stream",
          "name": "stdout",
          "text": [
            "x_train: [ 5.3  7.9  2.9  5.1  3.2  4.5  8.2  6.8  1.3 10.5  3.   2.2  5.9  6.\n",
            "  3.7  3.2  9.   2.   1.1  7.1  4.9  4. ]\n",
            "y_train: [ 83088. 101302.  56642.  66029.  64445.  61111. 113812.  91738.  46205.\n",
            " 121872.  60150.  39891.  81363.  93940.  57189.  54445. 105582.  43525.\n",
            "  39343.  98273.  67938.  56957.]\n"
          ]
        }
      ]
    },
    {
      "cell_type": "code",
      "source": [
        "x_train=np.reshape(x_train, (-1,1))\n",
        "x_test=np.reshape(x_test, (-1,1))\n",
        "y_train=np.reshape(y_train, (-1,1))\n",
        "y_test=np.reshape(y_test, (-1,1))"
      ],
      "metadata": {
        "id": "NKdCI5beemhT"
      },
      "execution_count": 6,
      "outputs": []
    },
    {
      "cell_type": "code",
      "source": [
        "lr=linear_model.LinearRegression()\n",
        "lr.fit(x_train,y_train)"
      ],
      "metadata": {
        "colab": {
          "base_uri": "https://localhost:8080/"
        },
        "id": "9A-MlJKifXH7",
        "outputId": "24df4304-21dc-4b96-db88-679d9a9da1d8"
      },
      "execution_count": 7,
      "outputs": [
        {
          "output_type": "execute_result",
          "data": {
            "text/plain": [
              "LinearRegression()"
            ]
          },
          "metadata": {},
          "execution_count": 7
        }
      ]
    },
    {
      "cell_type": "code",
      "source": [
        "prediction=lr.predict(x_test)"
      ],
      "metadata": {
        "id": "5lHJ_f1if0FQ"
      },
      "execution_count": 8,
      "outputs": []
    },
    {
      "cell_type": "code",
      "source": [
        "lr.coef_"
      ],
      "metadata": {
        "colab": {
          "base_uri": "https://localhost:8080/"
        },
        "id": "mjrBdWtUgEUM",
        "outputId": "bc37878c-ed7b-4890-a6c6-6166f8e1bc40"
      },
      "execution_count": 9,
      "outputs": [
        {
          "output_type": "execute_result",
          "data": {
            "text/plain": [
              "array([[9379.71049195]])"
            ]
          },
          "metadata": {},
          "execution_count": 9
        }
      ]
    },
    {
      "cell_type": "code",
      "source": [
        "lr.intercept_"
      ],
      "metadata": {
        "colab": {
          "base_uri": "https://localhost:8080/"
        },
        "id": "lTekvMbTgKkj",
        "outputId": "84d38188-3a97-4273-87e5-9a11b5cfc4e6"
      },
      "execution_count": 11,
      "outputs": [
        {
          "output_type": "execute_result",
          "data": {
            "text/plain": [
              "array([26986.69131674])"
            ]
          },
          "metadata": {},
          "execution_count": 11
        }
      ]
    },
    {
      "cell_type": "code",
      "source": [
        "metrics.mean_squared_error(y_test,prediction)"
      ],
      "metadata": {
        "colab": {
          "base_uri": "https://localhost:8080/"
        },
        "id": "9Pa7SQFpgZLD",
        "outputId": "c60a82ce-c356-4289-b29b-d36cbfa772f8"
      },
      "execution_count": 12,
      "outputs": [
        {
          "output_type": "execute_result",
          "data": {
            "text/plain": [
              "22407940.143340684"
            ]
          },
          "metadata": {},
          "execution_count": 12
        }
      ]
    },
    {
      "cell_type": "code",
      "source": [
        "metrics.r2_score(y_test,prediction)"
      ],
      "metadata": {
        "colab": {
          "base_uri": "https://localhost:8080/"
        },
        "id": "yGNG9SGBgnyE",
        "outputId": "12a7e2bf-d5f8-4583-b0b6-618d1e74ca90"
      },
      "execution_count": 13,
      "outputs": [
        {
          "output_type": "execute_result",
          "data": {
            "text/plain": [
              "0.9779208335417602"
            ]
          },
          "metadata": {},
          "execution_count": 13
        }
      ]
    }
  ]
}